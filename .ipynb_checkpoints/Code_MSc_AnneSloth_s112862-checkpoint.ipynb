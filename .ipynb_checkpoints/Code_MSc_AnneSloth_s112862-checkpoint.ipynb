{
 "cells": [
  {
   "cell_type": "markdown",
   "metadata": {},
   "source": [
    "##  <span style=\"color:darkred\">Data extraction and visualization for indoor climate assessment</span>\n",
    "The below scripts are made by Henriette Steenhoff, s134869, to help visualize the sampling of different indoor climate measures for the Master Thesis of Anne Sloth Bidstrup, s112862 at The Technical University of Denmark (DTU), May 2017.\n",
    "\n",
    "The purpose of this Notebook is to give the reader an idea of how the code works and how it can be run. The Notebook does not go into details on climate related matters as this is described in the related report and is now viewed as a part of the scope of the coding task. This Notebook is solely the documentation of the code and descriptions of decisions made regarding the collected data to produce the correct output.\n",
    "\n",
    "The reader of this Notebook is assumed to have a basic understanding of python programming, regular expressions, patterns, trees, simple data structures and related terminology. \n",
    "\n",
    "*In order to run this code you need to have Python 2.7 installed along with jupyter notebooks, plotly and pandas. Furthermore, you need to have the data available and structured as described in the section Structure of Data Output.*\n",
    "\n",
    "----"
   ]
  },
  {
   "cell_type": "markdown",
   "metadata": {},
   "source": [
    "##  <span style=\"color:darkred\">Information about the different data sources</span>\n",
    "This section introduces the different data sources and their content. This is not a thorough description but rather an overview to make it easier to follow along as the code is documented below.\n",
    "\n",
    "### <span style=\"color:darkred\">The different data sources</span>\n",
    "**Netatmo, ``.xlsx``**\n",
    "\n",
    "Data extracted weekly from Netatmo for each location, each monitored room is represented by its own file.\n",
    "\n",
    "* CO2\n",
    "* heat \n",
    "* humidity \n",
    "\n",
    "Together with this information from Netatmo a file, the ``have``-file contains information about outdoor temperature for the given week.\n",
    "\n",
    "**Bygweb - wireless, ``.db``**\n",
    "\n",
    "Data from Access database fetched on a weekly basis of all locations that need to be extracted and put into seprate sheets.\n",
    "* ``PIR`` and ``reed``- for living room/kitchen and bedroom\n",
    "* ``Compas`` and ``Access`` - files generated but note used any further.\n",
    "* *Several of the variables in the data will be discarded as they are not used*\n",
    "\n",
    "\n",
    "\n",
    "### <span style=\"color:darkred\">Different measures, which to use</span>\n",
    "#### Wireless, ``PIR/Reed`` \n",
    "* **PIR (movement censor)** The exciting part, indicates someone at home if between ``close`` and ``open``\n",
    "    * ``Timed out`` - no more movement, **rows will be discarded**\n",
    "* **Reed (door)** Present/home values ``open/close``\n",
    "\n",
    "One file is create for each location with all ``PIR/Reed`` values to get an overview of when there are someone at home.\n",
    "\n",
    "#### Wireless, ``Compas/Acc`` \n",
    "* ONLY ``moved``\n",
    "* Sorted by room\n",
    "* *Number of entities*\n",
    "* % of time one has been at home\n",
    "\n",
    "This information is extracted from the Access databass but not processed any further.\n",
    "\n",
    "#### Netatmo, ``CO2``\n",
    "In order to look at the CO2-levels when people are at home, the PIR/Reed values will be merged with the CO2-values.\n",
    "\n",
    "#### Netatmo, ``Humidity``\n",
    "Calculating relative humidity will be based on the equations provided by Anne for boundaries red, yellow and green ocmbined with the outdoor temperature from the ``have``-file."
   ]
  },
  {
   "cell_type": "markdown",
   "metadata": {},
   "source": [
    "----\n",
    "### Documentation\n",
    "Some references for help on different coding solutions\n",
    "\n",
    "* [``pandas`` documentation](http://pandaproject.net/docs/importing-access-files.html)\n",
    "* [``plotly`` documentation](https://plot.ly/python/ipython-notebook-tutorial/)\n",
    "\n",
    "#### To-do:\n",
    "- Look into possibilities for making transparent background on plots to save $\\checkmark$ - *given as argument in plot* [see here](http://stackoverflow.com/questions/29968152/python-setting-background-color-to-transparent-in-plotly-plots)\n",
    "- Find target group in need of feedback $\\checkmark$ - Anne has list\n",
    "- Separate processed datasets from raw data (in folders) $\\checkmark$ - done ultimo March\n",
    "- Make system to distinguish between weeks and different users $\\checkmark$ - *weekly folders, alias and room identifiers*\n",
    "- Find solution for merging Netatmo CO2 data with Wireless \"when-people-are-at-home-data\" $\\checkmark$ - finalized medio April\n",
    "\n",
    "----"
   ]
  },
  {
   "cell_type": "markdown",
   "metadata": {},
   "source": [
    "## <span style=\"color:darkred\">Structure of data output</span>"
   ]
  },
  {
   "cell_type": "markdown",
   "metadata": {},
   "source": [
    "This section will give a brief introduction on how to\n",
    " * name the different files to be read\n",
    " * structure the raw data in order to be loaded into the program\n",
    " * find the different plots and output files\n",
    " \n",
    "*As the code is made as modular as possible, it is easy to change the structures of the different paths to fit new configurations.*\n",
    " \n",
    "### I/O description\n",
    "* All input files (the Access file) must be put in the root of the directory. \n",
    "* The netatmo data should be placed in the netatmo path, which is shown with an example in the Data Processing section.\n",
    "\n",
    "### Folder structure\n",
    "This information is used for organizing files into right folders in the working directory. The description is made based on the structure that was used during the feedback period.\n",
    "\n",
    "![Tree structure](tree.png)\n",
    "\n",
    "* For each week there will be a folder named '``Data week x``', where ``x`` denotes the week number according to the Gregorian calendar. In the figure above, the weekly folder is seen as the root. \n",
    "* In the weekly folder there are two subfolders: ``Netatmo``, ``Wireless`` and ``ProcessedData``.\n",
    "* The ``Netatmo`` folder has subfolders ``CO2``, ``HR`` and ``Visualization``. ``Netatmo`` contains all the raw data files extracted from Netatmo. The raw files are restructured by the program and the relevant data for each location is extracted. The proccessed files are put in ``ProcessedData``.\n",
    "  * ``Visualization`` contains bar charts, pie chart and plots for each week generated by the program for the given week. Each home is uniquely identified in each folder by it's ``ID`` i.e: ``Hexxx``.\n",
    "  * ``CO2`` contains the calculated home/awa values for each observation. This is the basis used when generating the plots in ``Visualization``.\n",
    "  * ``HR`` contains the calculated boundaries for each humidity value and related timestamp and temperature in Celcius.\n",
    "* ``ProcessedData`` contains all data used in that week from both Netatmo and Wireless sorted into files for each room in the house, this is the data extracted by the program from the ``Wireless/Bygweb files`` added to the directory each week. The different homes can be identified by the aliases made by Anne and a room identifier $\\{stue, værelse\\}$ etc. \n",
    "\n",
    "Since the data from Netatmo and Wireless will be interdependent, there will be no separate folder for the processed Wireless/Netatmo data. \n",
    "\n",
    "*Some data (unused fields and observations) has been removed to improve performance.*\n",
    "\n",
    "### <span style=\"color:darkred\">Naming convention</span>\n",
    "### DATA FILES\n",
    "All the data can be on Dropbox (but will be sent to involved parties for review) \n",
    "* There will be as many processed netatmo files for a home as there are monitored rooms (with a maximum of 3).\n",
    "\n",
    "| Data type  |  Generic naming standard | Example |\n",
    "|---|---|---|\n",
    "| <span style=\"color:darkred\">**PIR/Reed**</span>  | '``alias``-**PIRReed**``.xlsx``'   | ``he117-PIRReed.xlsx`` |\n",
    "| <span style=\"color:darkred\">**AccCompas**</span> | '``alias``-**AccCompas**``_room.xlsx``' | ``he117-AccCompas_kitchen.xlsx`` |\n",
    "|<span style=\"color:darkred\">**Netatmo**</span>| '**netatmo**``-alias-room.xlsx``' | ``netatmo_He61 fStue.xlsx`` |\n",
    "|  |  |  |\n",
    "|<span style=\"color:darkred\">**Full PIR/Reed**</span>|**weekMerge**``xx.xlsx``| ``weekMerge15.xlsx``|\n",
    "\n",
    "### PLOTS\n",
    "As described above, all the visualizations are found in folder ``Netatmo`` in subfolder ``Visualizations``. File names will start with the ``alias`` for the home and be followed by an indication of which output we have $\\{temp, co2, AccCompas, HR\\}$ and what room the measurements belong to: $\\{livingroom, bedroom, entrance\\}$.\n",
    "\n",
    "| Output type | Generic naming standard | Example |\n",
    "|----|----|----|\n",
    "| <span style=\"color:darkred\">**CO2 plot** </span>        | '``alias``-**co2**-``room``.png'       | ``He201-co2-**room**.png`` |\n",
    "| <span style=\"color:darkred\">**Temperature plot**</span> | '``alias``-**temp**-``room``.png'      | ``He9f-temp-Livingroom.png`` |\n",
    "| <span style=\"color:darkred\">**Fresh air** </span>        | '``alias``-``room``-**fa**.png' | ``He13 f Liv-fa.png`` |\n",
    "| <span style=\"color:darkred\">**Humidity rate** </span>   | '``alias``-**HR**-``room``.png'        | ``He41f-hr-livingroom.png`` |\n",
    "\n",
    "----"
   ]
  },
  {
   "cell_type": "markdown",
   "metadata": {},
   "source": [
    "## <span style=\"color:darkred\">Explanation of how to run the code</span>\n",
    "\n",
    "Depending on what data you need, you can run different parts of the code. This section will give a brief introduction on how to:\n",
    "* access data from different weeks\n",
    "* toggle between different weeks\n",
    "* change path/data source\n",
    "* weekly plots\n",
    "  * generate humidity plots \n",
    "  * generate co2 plots\n",
    "  * generate temperature graphs\n",
    "\n",
    "*Some basic parts of the code will need to be executed regardless of what data you need. Unless this is done, you will not have any data to work on.*\n",
    "\n",
    "\n",
    "#### External functions\n",
    "The majority of functionality has been moved from the script into a separate file containing all function logic. This has been done in order to simplify and shorten this Notebook and in order for the user to read the code more easily.\n",
    "\n",
    "All external functions can be found in the python file ``externalFunctions.py`` which is included in this repository.\n",
    "\n",
    "----"
   ]
  },
  {
   "cell_type": "markdown",
   "metadata": {},
   "source": [
    "**References **\n",
    "* [Pandas reference](http://www.shanelynn.ie/select-pandas-dataframe-rows-and-columns-using-iloc-loc-and-ix/)"
   ]
  },
  {
   "cell_type": "markdown",
   "metadata": {},
   "source": [
    "\n",
    "## <span style=\"color:darkred\">Data Preprocessing</span>\n",
    "* Importing needed Python libraries\n",
    "* Adding global plotting color values\n",
    "* Importing external functions"
   ]
  },
  {
   "cell_type": "code",
   "execution_count": 101,
   "metadata": {
    "collapsed": false
   },
   "outputs": [],
   "source": [
    "# Imports - getting relevant libraries\n",
    "import re\n",
    "import pandas as pd\n",
    "from collections import Counter \n",
    "import numpy as np\n",
    "from operator import itemgetter\n",
    "from scipy import linalg\n",
    "from os import *\n",
    "from os.path import isfile, join\n",
    "import time\n",
    "from datetime import date, timedelta\n",
    "import datetime\n",
    "from pylab import *\n",
    "\n",
    "import plotly\n",
    "import plotly.plotly as py\n",
    "from IPython.display import Image \n",
    "import plotly.graph_objs as go\n",
    "# API access to plotting tools\n",
    "plotly.tools.set_credentials_file(username='frksteenhoff2', api_key ='duu8hsfRmuI5rF2EU8o5')\n",
    "\n",
    "# Setting the colors for the different plots, \n",
    "# such that all plots get the same colors\n",
    "homeGreen = 'rgb(0, 204, 0)'         # bright green \n",
    "hedeBlue  = 'rgb(0, 0, 255)'         # blue\n",
    "pieGreen  = homeGreen                # bright green\n",
    "pieOrange = 'rgb(246, 214, 56)'      # orange\n",
    "pieRed    = 'rgb(204, 0, 0)'         # red\n",
    "ticksAxes = 'rgb(107, 107, 107)'     # axes color - grey\n",
    "bgBorder  = 'rgba(255, 255, 255, 0)' # white\n",
    "\n",
    "# Suppress warnings\n",
    "pd.options.mode.chained_assignment = None  # default='warn'\n",
    "\n",
    "# Reading in external functions\n",
    "import externalFunctions as ex"
   ]
  },
  {
   "cell_type": "markdown",
   "metadata": {},
   "source": [
    "### Extracting basic information to use when processing data"
   ]
  },
  {
   "cell_type": "markdown",
   "metadata": {},
   "source": [
    "**Get currect week of year ($weekOfYear - 1$)**\n",
    "* Create folder for weekly data\n",
    "* Set <span style=\"color:red\">**week variable**, ``weekNumber``, used throughout as data source identifier</span> \n",
    "* Setting names for different data source paths **based on week variable**"
   ]
  },
  {
   "cell_type": "markdown",
   "metadata": {},
   "source": [
    "### For initial data preparation\n",
    "<span style=\"color:red\">Only use this for preparing data for one specific week</span>"
   ]
  },
  {
   "cell_type": "code",
   "execution_count": 469,
   "metadata": {
    "collapsed": false
   },
   "outputs": [
    {
     "name": "stdout",
     "output_type": "stream",
     "text": [
      "Week number: 15\n",
      "C:\\Users\\frksteenhoff\\Dropbox\\Data eksempel til Henriette\\Data Reference weeks\\Netatmo\n",
      "\n",
      "Current directory:\n",
      "C:/Users/frksteenhoff/Dropbox/Data eksempel til Henriette/Data week 15\n"
     ]
    }
   ],
   "source": [
    "# Get week of year\n",
    "# Minus one to indicate work on last week's data\n",
    "#weekNumber = date.today().isocalendar()[1]-1\n",
    "\n",
    "# Adding new folder Week_'x' to directory \n",
    "#dir_name = \"Week_\"+str(weekNumber)\n",
    "#if not path.exists(dir_name):\n",
    "#    makedirs(dir_name)\n",
    "#    print \"A new folder named '%s' have been created for data from week %d.\" % (dir_name, weekNumber)\n",
    "#else:\n",
    "#    print \"An existing folder named '%s' was used\" % dir_name\n",
    "    \n",
    "# Folder structure for different data\n",
    "weekNumber = 15\n",
    "print 'Week number:', weekNumber\n",
    "\n",
    "# Using Anne's folder structure from Dropbox\n",
    "base_path = \"C:/Users/frksteenhoff/Dropbox/Data eksempel til Henriette/\"\n",
    "# Data locations\n",
    "netpath   = base_path + \"Data week \" +str(weekNumber)+ \"/Netatmo\"\n",
    "weekpath  = base_path + \"Data week \" + str(weekNumber)\n",
    "PIRpath   = base_path + \"Data week \" + str(weekNumber) + \"/ProcessedData/PIRReed/\"\n",
    "COMpath   = base_path + \"Data week \" + str(weekNumber) + \"/ProcessedData/CompAcc/\"\n",
    "\n",
    "# Change back known folder structure\n",
    "testpath  = base_path + \"Program - extractWork/\"\n",
    "viz_path  = base_path + \"Data week \" + str(weekNumber) + \"/Netatmo/Visualization\"\n",
    "\n",
    "# For reference weeks\n",
    "#netpath  = base_path + \"Data Reference weeks/Netatmo\"\n",
    "#weekpath  = base_path + \"Data Reference weeks\"\n",
    "#PIRpath   = base_path + \"Data Reference weeks/ProcessedData/PIRReed/\"\n",
    "#COMpath   = base_path + \"Data Reference weeks/ProcessedData/CompAcc/\"\n",
    "\n",
    "# Change back known folder structure\n",
    "#testpath  = base_path + \"Program - extractWork/\"\n",
    "#viz_path  = base_path + \"Data Reference weeks/Netatmo/Visualization\"\n",
    "\n",
    "# Change current directory according to week\n",
    "print getcwd()\n",
    "chdir(weekpath)\n",
    "print \"\\nCurrent directory:\\n\", weekpath"
   ]
  },
  {
   "cell_type": "markdown",
   "metadata": {},
   "source": [
    "### Patterns\n",
    "#### Taking care of different spellings and (lacking) naming conventions for the different rooms\n",
    "\n",
    "*Can be optimised but is not a priority right now*"
   ]
  },
  {
   "cell_type": "code",
   "execution_count": 322,
   "metadata": {
    "collapsed": false
   },
   "outputs": [],
   "source": [
    "# LISTS OF DIFFERENT NAMES GIVEN FOR EACH ROOM.....\n",
    "# Entrance\n",
    "entre_pattern = '|'.join(['Entre PIR', 'EntrÃ© PIR', 'upstairs', \n",
    "                          'entrance/kitchen', 'hallway', 'PIR entrance',\n",
    "                          'entrance','PIR gang', 'PIR stairs',\n",
    "                          'Reed main enterance', 'reed main enterance',\n",
    "                          'Reed main entrance', 'PIR Entre', 'Reed Main door',\n",
    "                          'PIR trapper', 'Pir stairs', 'main entrance reed north',\n",
    "                          'pir entrance', 'pir stairs', 'main enterance', 'Reed entrance', 'Main door Reed',\n",
    "                          'entrance', 'entre', 'main entrance reed', 'Reed'])\n",
    "# Living room\n",
    "livingroom_pattern = '|'.join(['Stue PIR', 'PIR stue', 'PIR livingroom','PIR upstairs office/livingroom',\n",
    "                               'PIR 1st floor living room', 'PIR uostairs living room', '1st', 'living',\n",
    "                               'living room', 'livingroom', 'stue', 'Stue', 'K\\xf8kken', 'Living', 'Kitchen',\n",
    "                               'kitchen south', 'kitchen', 'kitchen South', 'livingroom/bedroom/kitchen', 'kken',\n",
    "                              'roomkitchen','frste sal','rstesal'])\n",
    "# Bedroom\n",
    "bedroom_pattern = '|'.join(['Bedroom', 'bedroom', 'bed room', 'sove', 'Guest room','Guestroom','sovevrlse', \n",
    "                            'loorlivingbedroom','ogsovevrelse','frstesal', 'Sove', 'uptairs', 'Uptairs', \"Downstairs\"])"
   ]
  },
  {
   "cell_type": "markdown",
   "metadata": {},
   "source": [
    "----\n",
    "\n",
    "## <span style=\"color:darkred\">Wireless work</span>"
   ]
  },
  {
   "cell_type": "markdown",
   "metadata": {
    "collapsed": true
   },
   "source": [
    "### Merge ``PIR`` and ``Reed``"
   ]
  },
  {
   "cell_type": "code",
   "execution_count": 470,
   "metadata": {
    "collapsed": false
   },
   "outputs": [],
   "source": [
    "# TABLE WITH ALL HOMES (for current week)\n",
    "# Initialize dataframe\n",
    "chdir(weekpath)\n",
    "pir_reed_merge = pd.DataFrame()\n",
    "# For special weeks (week 16)\n",
    "#fileNames = ['PIR', 'Reed', 'PIR-2', 'Reed-2']\n",
    "# For normal weeks\n",
    "fileNames = ['PIR', 'Reed']\n",
    "\n",
    "# Read in files for PIR and Reed and merge to one \n",
    "for name in fileNames:\n",
    "    data = pd.read_excel(name+\".xlsx\", name)\n",
    "    pir_reed_merge = pir_reed_merge.append(data)"
   ]
  },
  {
   "cell_type": "markdown",
   "metadata": {},
   "source": [
    "#### Remove all rows where code values $\\in \\{tempUpdate, TimeOut, ReEstablishedLink, LostLink\\}$\n",
    "Agreed upon with Anne -- data is not useful for the ouput."
   ]
  },
  {
   "cell_type": "code",
   "execution_count": 471,
   "metadata": {
    "collapsed": false
   },
   "outputs": [
    {
     "name": "stdout",
     "output_type": "stream",
     "text": [
      "Number of observations (temperature included): 14132\n",
      "Number of observations (temperature excluded): 13865\n"
     ]
    }
   ],
   "source": [
    "# Remove unwanted temperature measuresold_obs = len(pir_reed_merge)\n",
    "old_obs = len(pir_reed_merge)\n",
    "pir_reed_merge = pir_reed_merge.loc[pir_reed_merge['code'].isin(['movement','open','closed'])]\n",
    "\n",
    "# Remove unnecessary features (duration, lastContact, threshold, batVoltage, ID, time)\n",
    "pir_reed_merge = pir_reed_merge.drop(['duration','lastContact','threshold','battVoltage','ID','time_', 'rh', 'temp'], axis=1)\n",
    "\n",
    "new_obs = len(pir_reed_merge)  \n",
    "\n",
    "# Print number of rows in all and relvant rows\n",
    "print \"Number of observations (temperature included):\", old_obs\n",
    "print \"Number of observations (temperature excluded):\", new_obs"
   ]
  },
  {
   "cell_type": "markdown",
   "metadata": {},
   "source": [
    "### Saving Wireless data to files\n",
    "\n",
    "The different naming conventions indicating the rooms in the homes are handled by the different patterns in the preprocessing section.\n",
    "\n",
    "Be advised! Due to lacking consistency in naming convention **some devices may not be included here**. Please make sure that running the code in section *Merging files containing same type of information* include the same room names as the ones  commented out below. -- otherwise contact Henriette."
   ]
  },
  {
   "cell_type": "markdown",
   "metadata": {},
   "source": [
    "#### Create and save individual files for each home\n",
    "Containing merged PIR/Reed samples sorted by timestamp. All files saved more than once are due to multiple monitored rooms in the house."
   ]
  },
  {
   "cell_type": "code",
   "execution_count": 472,
   "metadata": {
    "collapsed": false
   },
   "outputs": [
    {
     "name": "stdout",
     "output_type": "stream",
     "text": [
      "Current home He87\n",
      "Current home Aalbrovej21\n",
      "Current home He145\n",
      "Current home He183\n",
      "Current home he109\n",
      "Current home he141\n",
      "Current home He211\n",
      "Current home he9\n",
      "Current home He93\n",
      "Current home He27\n",
      "Current home Ho102\n",
      "Current home He213\n",
      "Current home he187\n",
      "Current home he213\n",
      "Current home He171\n",
      "Current home he117\n",
      "Current home He104\n",
      "Current home He111\n",
      "Current home Klakkebjerg-Tasnim\n",
      "Current home He197\n",
      "Current home ho72\n",
      "Current home He41\n",
      "Current home He61\n",
      "Current home he61\n",
      "Current home He69\n",
      "Current home He13\n",
      "Current home He107\n",
      "Current home He175\n",
      "Current home he143\n",
      "Current home Ho70\n",
      "Current home Ho46\n",
      "Current home He59\n",
      "Current home He221\n",
      "Current home He115\n",
      "Current home Ho92\n",
      "Current home He99\n",
      "Current home Ho48\n",
      "Current home ho48\n",
      "Current home he103\n",
      "Current home ho24\n",
      "Current home He131\n",
      "Current home Ho20\n",
      "Current home He25\n",
      "Current home he57\n",
      "Current home He35\n",
      "Current home He109\n",
      "Current home he87\n",
      "Current home Aalbrovej21He59\n",
      "Current home He103\n",
      "Current home He57\n",
      "\n",
      "--- Execution time: 5.80900001526 seconds ---\n"
     ]
    }
   ],
   "source": [
    "# Clock time spent on execution\n",
    "start_time = time.time()\n",
    "\n",
    "# If directory path does not exist - create it\n",
    "if not path.exists(PIRpath):\n",
    "    makedirs(PIRpath)\n",
    "chdir(PIRpath)\n",
    "    \n",
    "# Create one file with all PIR/Reed values per home\n",
    "for alias in pir_reed_merge['bolig'].unique():\n",
    "    # Get data for specific home\n",
    "    current_home = (pir_reed_merge.loc[pir_reed_merge['bolig'].isin([alias])]).sort_values(by=['submitDate','submitTime'])\n",
    "    \n",
    "    # Save merge file \n",
    "    writer = pd.ExcelWriter(alias.lower() + ' PIRReed.xlsx', engine='xlsxwriter')\n",
    "    print \"Current home\", alias\n",
    "    current_home.to_excel(writer)\n",
    "    writer.save() \n",
    "\n",
    "print(\"\\n--- Execution time: %s seconds ---\" % (time.time() - start_time))"
   ]
  },
  {
   "cell_type": "markdown",
   "metadata": {},
   "source": [
    "### Find files PIR/Reed \n",
    "Use for calculating time home/CO2 level"
   ]
  },
  {
   "cell_type": "code",
   "execution_count": 473,
   "metadata": {
    "collapsed": false
   },
   "outputs": [
    {
     "name": "stdout",
     "output_type": "stream",
     "text": [
      "\n",
      "Files in all:  51\n"
     ]
    }
   ],
   "source": [
    "pirReed_files = []\n",
    "# Change directory to folder of processed PIR/Reed files\n",
    "chdir(PIRpath)\n",
    "\n",
    "# Find all processed PIR/Reed files\n",
    "pirReed_files += [file for file in listdir('.') if not file.startswith('netatmo') and not file.endswith('.png')]\n",
    "\n",
    "#print \"Files: \", pirReed_files\n",
    "print \"\\nFiles in all: \", len(pirReed_files)\n"
   ]
  },
  {
   "cell_type": "markdown",
   "metadata": {},
   "source": [
    "### Save Acc/Compas information to file"
   ]
  },
  {
   "cell_type": "code",
   "execution_count": 452,
   "metadata": {
    "collapsed": false
   },
   "outputs": [
    {
     "name": "stdout",
     "output_type": "stream",
     "text": [
      "Number of observations (temperature included): 100408\n",
      "Number of observations (temperature excluded): 25253 \n",
      "\n",
      "Saving values for 'ho46', in all: 21\n",
      "Saving values for 'ho46', in all: 60\n",
      "Saving values for 'he145', in all: 70\n",
      "Saving values for 'he145', in all: 177\n",
      "Saving values for 'he41', in all: 381\n",
      "Saving values for 'he41', in all: 487\n",
      "Saving values for 'he183', in all: 8\n",
      "Saving values for 'he183', in all: 62\n",
      "Saving values for 'he213', in all: 26\n",
      "Saving values for 'he213', in all: 1129\n",
      "Saving values for 'ho66', in all: 31\n",
      "Saving values for 'ho66', in all: 42\n",
      "Saving values for 'he213', in all: 27\n",
      "Saving values for 'he213', in all: 238\n",
      "Saving values for 'he211', in all: 167\n",
      "Saving values for 'ho48', in all: 315\n",
      "Saving values for 'he103', in all: 570\n",
      "Saving values for 'he107', in all: 42\n",
      "Saving values for 'he107', in all: 165\n",
      "Saving values for 'ho24', in all: 4\n",
      "Saving values for 'ho24', in all: 199\n",
      "Saving values for 'he113', in all: 33\n",
      "Saving values for 'he113', in all: 126\n",
      "Saving values for 'he104', in all: 16\n",
      "Saving values for 'ho48', in all: 189\n",
      "Saving values for 'he87', in all: 167\n",
      "Saving values for 'he147', in all: 6\n",
      "Saving values for 'he147', in all: 558\n",
      "Saving values for 'ho92', in all: 10\n",
      "Saving values for 'he143', in all: 121\n",
      "Saving values for 'he143', in all: 794\n",
      "Saving values for 'he187', in all: 16\n",
      "Saving values for 'he187', in all: 189\n",
      "Saving values for 'he93', in all: 94\n",
      "Saving values for 'he93', in all: 74\n",
      "Saving values for 'he103', in all: 783\n",
      "Saving values for 'he103', in all: 746\n",
      "Saving values for 'he197', in all: 6\n",
      "Saving values for 'he197', in all: 39\n",
      "Saving values for 'he61', in all: 83\n",
      "Saving values for 'he61', in all: 256\n",
      "Saving values for 'he109', in all: 141\n",
      "Saving values for 'he109', in all: 1025\n",
      "Saving values for 'he141', in all: 58\n",
      "Saving values for 'he141', in all: 241\n",
      "Saving values for 'he27', in all: 116\n",
      "Saving values for 'he25', in all: 170\n",
      "Saving values for 'ho70', in all: 93\n",
      "Saving values for 'he221', in all: 2\n",
      "Saving values for 'ho98', in all: 113\n",
      "Saving values for 'ho102', in all: 66\n",
      "Saving values for 'ho102', in all: 187\n",
      "Saving values for 'he61', in all: 137\n",
      "Saving values for 'he61', in all: 327\n",
      "Saving values for 'he115', in all: 140\n",
      "Saving values for 'he115', in all: 29\n",
      "Saving values for 'he171', in all: 106\n",
      "Saving values for 'he171', in all: 199\n",
      "Saving values for 'he111', in all: 1\n",
      "Saving values for 'he175', in all: 8\n",
      "Saving values for 'he175', in all: 271\n",
      "Saving values for 'ho72', in all: 154\n",
      "Saving values for 'ho72', in all: 230\n",
      "Saving values for 'he59', in all: 103\n",
      "Saving values for 'he59', in all: 280\n",
      "Saving values for 'he13', in all: 67\n",
      "Saving values for 'he13', in all: 213\n",
      "Saving values for 'he201', in all: 7\n",
      "Saving values for 'he201', in all: 175\n",
      "Saving values for 'he9', in all: 293\n",
      "Saving values for 'he9', in all: 303\n",
      "Saving values for 'ho20', in all: 55\n",
      "Saving values for 'he99', in all: 193\n",
      "Saving values for 'he69', in all: 66\n",
      "Saving values for 'he69', in all: 77\n",
      "Saving values for 'he117', in all: 2\n",
      "Saving values for 'he117', in all: 82\n",
      "Saving values for 'he35', in all: 51\n",
      "Saving values for 'he35', in all: 1\n",
      "Saving values for 'he139', in all: 119\n",
      "Saving values for 'he139', in all: 544\n",
      "\n",
      "--- Execution time: 20.7730000019 seconds ---\n"
     ]
    }
   ],
   "source": [
    "# Clock time spent on execution\n",
    "start_time = time.time()\n",
    "\n",
    "# Initialize dataframe\n",
    "acc_compas_merge = pd.DataFrame()\n",
    "fileNames        = ['Compas', 'Acc']\n",
    "\n",
    "# If directory path does not exist - create it\n",
    "if not path.exists(COMpath):\n",
    "    makedirs(COMpath)\n",
    "chdir(weekpath)\n",
    "\n",
    "# Read in files for Compas / Acc - merge to one \n",
    "for name in fileNames:\n",
    "    # Only read in needed columns\n",
    "    data = pd.read_excel(name+\".xlsx\", name)# usecols=['tagName','tagID','code','bolig','temp','rh','submitDate','submitTime'])\n",
    "    acc_compas_merge = acc_compas_merge.append(data)\n",
    "\n",
    "# Count initial number of observations\n",
    "#old_obs = len(acc_compas_merge)\n",
    "#print old_obs\n",
    "\n",
    "# Keep only code value 'moved'\n",
    "acc_compas = acc_compas_merge.loc[acc_compas_merge['code'].isin(['moved'])]\n",
    "# Removed unused columns (for a smaller file size to save)\n",
    "acc_compas = acc_compas.drop(['temp','lastContact','threshold','battVoltage','ID','rh'], axis=1)\n",
    "\n",
    "print \"Number of observations (temperature included):\", old_obs\n",
    "print \"Number of observations (temperature excluded):\", len(acc_compas), \"\\n\"\n",
    "\n",
    "# Sort values from each room into separate files\n",
    "chdir(COMpath)\n",
    "for alias in list(set(acc_compas['bolig'])):\n",
    "    # Get data for specific home\n",
    "    current_home = (acc_compas.loc[acc_compas['bolig'].isin([alias])]).sort_values(by=['submitDate','submitTime'])\n",
    "    # save bedroom info to file     #wayprettiercode (dir_, alias, string, df, dfcol, pattern)\n",
    "    ex.saveDataToFile(alias.lower(), \"-AccCompas_bedroom.xlsx\", current_home, 'tagName', bedroom_pattern)\n",
    "    # Save kitchen info to file\n",
    "    ex.saveDataToFile(alias.lower(), \"-AccCompas_livKitchen.xlsx\", current_home, 'tagName', livingroom_pattern)\n",
    "\n",
    "print(\"\\n--- Execution time: %s seconds ---\" % (time.time() - start_time))"
   ]
  },
  {
   "cell_type": "markdown",
   "metadata": {},
   "source": [
    "----\n",
    "## <span style=\"color:darkred\">Netatmo arbejde</span> "
   ]
  },
  {
   "cell_type": "markdown",
   "metadata": {},
   "source": [
    "### Extracting hourly data from ``have_fil``\n",
    "The ``have_fil`` file contains out door temperatures for the same week as the Wireless data. It is used to calculate the relative humidity indoor.\n",
    "\n",
    "Since the Wireless and Netatmo data cannot be mapped $1:1$, the out door temperature is calculated on an hourly basis for each hour of each day.\n",
    "\n",
    "#### Handling missing data - ``have_fil``\n",
    "Missing both hours of a single day and entire days is one of the realities of the data.\n",
    "\n",
    "The following algortihm was made to work around the problem.\n",
    "* **To work around missing days** -- all days will be generated from start date and 7 days ahead, assuming that the first days is always in the data.\n",
    "* **If missing hour** - the median of the hours for the remaining days is inserted. \n"
   ]
  },
  {
   "cell_type": "code",
   "execution_count": 328,
   "metadata": {
    "collapsed": true
   },
   "outputs": [],
   "source": [
    "# Average temp per hour of day for week \n",
    "def haveCalculation(dataFrame):\n",
    "    hour_cnt = {}\n",
    "    daysInWeek = []\n",
    "    # Extract all days in week from 1st day and seven days forward\n",
    "    # due to missing data this has to be stated explicitly\n",
    "    for days in pd.date_range(dataFrame['Timezone : Europe/Copenhagen'].unique().min(), periods=7):\n",
    "        daysInWeek.append(days.day)\n",
    "        \n",
    "    # Extract temp for each hour of each day\n",
    "    for day in daysInWeek:\n",
    "        for hour in range(0,24):\n",
    "            # Find relevant hour of day\n",
    "            dayCombo   = str(day)+\"-\"+str(hour)\n",
    "            hourlyTemp = dataFrame.loc[dataFrame['con'].isin([dayCombo])]\n",
    "            \n",
    "            # Summing the temperatures\n",
    "            # If no entries for given hour - \n",
    "            # impute with median for remaining days at same hour\n",
    "            if len(hourlyTemp) == 0:\n",
    "                dailyTemp = dataFrame.loc[dataFrame['Hour'].isin([hour])]\n",
    "                hour_cnt[dayCombo] = dailyTemp['Temperature'].median()\n",
    "            else:\n",
    "                # Else add average of hour for specific day\n",
    "                hour_cnt[dayCombo] = hourlyTemp['Temperature'].sum(axis=0)/(len(hourlyTemp))\n",
    "    return hour_cnt\n"
   ]
  },
  {
   "cell_type": "markdown",
   "metadata": {},
   "source": [
    "### Create list of all Netatmo files\n",
    "All room data and have fil (outdoor temperature) separately"
   ]
  },
  {
   "cell_type": "code",
   "execution_count": 474,
   "metadata": {
    "collapsed": false
   },
   "outputs": [
    {
     "name": "stdout",
     "output_type": "stream",
     "text": [
      "Data path C:\\Users\\frksteenhoff\\Dropbox\\Data eksempel til Henriette\\Data week 15\\Netatmo \n",
      "\n",
      "\n",
      "Number of files: 88\n",
      "\n",
      "Out door temperatures from have_17_4_2017.xls read\n"
     ]
    }
   ],
   "source": [
    "# Find all files in folder\n",
    "# Keep all files with extension .xls (the Netatmo files)\n",
    "netatmo_files = []\n",
    "\n",
    "chdir(netpath)\n",
    "netatmo_files += [file for file in listdir('.') if not file.startswith('have') and file.endswith('.xls')]\n",
    "# Print list of files\n",
    "print \"Data path\", getcwd(), \"\\n\"\n",
    "#print \"Files:\\n\", netatmo_files\n",
    "print \"\\nNumber of files: %d\" % len(netatmo_files)\n",
    "\n",
    "# Get have fil - REMOVE LAST COLUMN BEFORE RUNNING\n",
    "have_ = [file for file in listdir('.') if file.startswith('have')]\n",
    "# Read netatmo outdoor temp\n",
    "have_fil = pd.read_excel(have_[0],sheetname='Worksheet')\n",
    "print \"\\nOut door temperatures from\", have_[0], \"read\"\n",
    "\n",
    "# Clean-up: remove header and first 2 rows\n",
    "have_fil.columns = have_fil.iloc[1,:]\n",
    "have_fil = have_fil.drop(have_fil.index[[0,1]])\n",
    "\n",
    "# Add hour label 0-23, vector t_u\n",
    "have_fil['Hour'] = pd.to_datetime(have_fil['Timezone : Europe/Copenhagen']).dt.hour\n",
    "have_fil['Day']  = pd.to_datetime(have_fil['Timezone : Europe/Copenhagen']).dt.day\n",
    "# Make individual date/hour IDs\n",
    "have_fil[\"con\"] = have_fil.Day.astype(str).str.cat(have_fil.Hour.astype(str), sep=\"-\")\n",
    "\n",
    "# Converting temperature from Celcius to Kelvin\n",
    "hour_cnt_have    = haveCalculation(have_fil)\n",
    "\n"
   ]
  },
  {
   "cell_type": "markdown",
   "metadata": {},
   "source": [
    "### Saving netatmo files for CO2-work\n",
    "Adding alias in file name in order to fetch file for CO2-work\n",
    "\n",
    "Time and date formats saved correct after this step"
   ]
  },
  {
   "cell_type": "code",
   "execution_count": 454,
   "metadata": {
    "collapsed": false
   },
   "outputs": [
    {
     "name": "stdout",
     "output_type": "stream",
     "text": [
      "Reading file He139 f 1st floor living room\n",
      "Reading file Ho46 1st floor living/bedroom\n",
      "Reading file He211 f Bedroom downstairs\n",
      "Reading file Ho104 Bedroom\n",
      "Reading file Ho92 Bedroom\n",
      "Reading file He147 Bedroom\n",
      "Reading file Ho102 Bedroom\n",
      "Reading file He175 Bedroom\n",
      "Reading file HE201 Bedroom\n",
      "Reading file He145 Bedroom\n",
      "Reading file He25 Bedroom\n",
      "Reading file He131 Bedroom\n",
      "Reading file He57 Bedroom\n",
      "Reading file HO70 Bedroom\n",
      "Reading file He35 Bedroom\n",
      "Reading file He109 Bedroom\n",
      "Reading file He103 Bedroom\n",
      "Reading file He213 bedroom\n",
      "Reading file He197 f bedroom\n",
      "Reading file He131 Bedroom\n",
      "Reading file He87 f Bedroom\n",
      "Reading file He57 Bedroom\n",
      "Reading file He117 f Bedroom\n",
      "Reading file He143 f Bedroom\n",
      "Reading file HO70 Bedroom\n",
      "Reading file Ho66 f Bedroom\n",
      "Reading file He35 Bedroom\n",
      "Reading file He139 f Bedroom\n",
      "Reading file He9 f Bedroom\n",
      "Reading file He107 f bedroom\n",
      "Reading file Ho24 f Bedroom\n",
      "Reading file He109 Bedroom\n",
      "Reading file He99 f Bedroom\n",
      "Reading file He103 Bedroom\n",
      "Reading file Ho92 Bedroom\n",
      "Reading file He147 Bedroom\n",
      "Reading file He13 f Bedroom\n",
      "Reading file Ho102 Bedroom\n",
      "Reading file Ho102 Bedroom\n",
      "Reading file He175 Bedroom\n",
      "Reading file Ho104 Bedroom\n",
      "Reading file He187 f Bedroom\n",
      "Reading file HE201 Bedroom\n",
      "Reading file He41 f Bedroom\n",
      "Reading file He113 f Bedroom\n",
      "Reading file He145 Bedroom\n",
      "Reading file Ho20 f Bedroom\n",
      "Reading file He25 Bedroom\n",
      "Reading file Ho98 f bedroom\n",
      "Reading file He27 bedroom\n",
      "Reading file He213 bedroom\n",
      "Reading file Ho72 Downstairs bedroom\n",
      "Reading file Ho72 Downstairs bedroom\n",
      "Reading file Ho72 Kitchen\n",
      "Reading file He131 Kitchen\n",
      "Reading file Ho72 Kitchen\n",
      "Reading file He131 Kitchen\n",
      "Reading file He35 Kitchen/living room\n",
      "Reading file Ho92 Kitchen/Living room\n",
      "Reading file He147 Kitchen/living room\n",
      "Reading file He25 Kitchen/Living room\n",
      "Reading file Ho46 Kitchen/living room\n",
      "Reading file He35 Kitchen/living room\n",
      "Reading file Ho92 Kitchen/Living room\n",
      "Reading file He147 Kitchen/living room\n",
      "Reading file He25 Kitchen/Living room\n",
      "Reading file He211 f Kitchen/livingroom\n",
      "Reading file Ho48 Køkken alrum og soveværelse\n",
      "Reading file Ho48 Køkken alrum og soveværelse\n",
      "Reading file He103 Living room\n",
      "Reading file Ho102 Living room\n",
      "Reading file He175 Living room\n",
      "Reading file He145 Living room\n",
      "Reading file He183 f Living room\n",
      "Reading file He9 f Living room\n",
      "Reading file He99 f Living room\n",
      "Reading file He103 Living room\n",
      "Reading file Ho102 Living room\n",
      "Reading file He175 Living room\n",
      "Reading file He41 f Living room\n",
      "Reading file He145 Living room\n",
      "Reading file HE141 f living room/bedriom/kitchen\n",
      "Reading file He57 Living room/kitchen\n",
      "Reading file HE201 Living room/kitchen\n",
      "Reading file He213 Living room/kitchen\n",
      "Reading file He57 Living room/kitchen\n",
      "Reading file He143 f Living room/kitchen\n",
      "Reading file Ho66 f Living room/kitchen\n",
      "Reading file Ho24 f Living room/kitchen\n",
      "Reading file He187 f Living room/kitchen\n",
      "Reading file HE201 Living room/kitchen\n",
      "Reading file He213 Living room/kitchen\n",
      "Reading file He93 Livingroom\n",
      "Reading file He93 Livingroom\n",
      "Reading file He13 f Livingroom/kitchen\n",
      "Reading file He93 Soveværelse\n",
      "Reading file He111 Soveværelse\n",
      "Reading file he59 Soveværelse\n",
      "Reading file He111 Soveværelse\n",
      "Reading file He61 f Soveværelse\n",
      "Reading file He69 Soveværelse\n",
      "Reading file He183 f Soveværelse\n",
      "Reading file He93 Soveværelse\n",
      "Reading file He171 f Soveværelse\n",
      "Reading file Ho48 Stue på første sal\n",
      "Reading file Ho48 Stue på første sal\n",
      "Reading file Ho104 Stue\n",
      "Reading file HO70 Stue\n",
      "Reading file He109 Stue\n",
      "Reading file He111 Stue\n",
      "Reading file he59 Stue\n",
      "Reading file Ho98 f Stue\n",
      "Reading file He27 Stue\n",
      "Reading file He87 f Stue\n",
      "Reading file He117 f Stue\n",
      "Reading file HO70 Stue\n",
      "Reading file He109 Stue\n",
      "Reading file He111 Stue\n",
      "Reading file He61 f Stue\n",
      "Reading file He197 f Stue\n",
      "Reading file He107 f Stue\n",
      "Reading file Ho104 Stue\n",
      "Reading file He113 f Stue\n",
      "Reading file Ho20 f Stue\n",
      "Reading file He69 Stue\n",
      "Reading file He171 f Stue\n",
      "Reading file HE141 f Uptairs \n",
      "\n",
      "All files processed!\n"
     ]
    }
   ],
   "source": [
    "# Read in netatmo data from the netatmo folder, \n",
    "# saves data in the PIR/Reed folder for easy localization \n",
    "# Use for CO2 calculations\n",
    "for room_file in netatmo_files:\n",
    "    ## If directory path does not exist - create it\n",
    "    #if not path.exists(PIRpath):\n",
    "    #    makedirs(PIRpath)\n",
    "    chdir(netpath)\n",
    "    # Read in file\n",
    "\n",
    "    netatmo_data = pd.read_excel(room_file) \n",
    "    # Get name for output file\n",
    "    location_name = netatmo_data.iloc[0,0]\n",
    "    # Get room for output file\n",
    "    room_name = netatmo_data.iloc[0,3]\n",
    "    print \"Reading file\", location_name, room_name\n",
    "\n",
    "        # Change range of data and give new column names\n",
    "    netatmo_data.columns = netatmo_data.iloc[1,:]\n",
    "    netatmo_data = netatmo_data.drop(netatmo_data.index[[0,1]])\n",
    "    \n",
    "    # Make Datetime value from Timestamp\n",
    "    netatmo_data.iloc[:,1] = pd.to_datetime(netatmo_data.iloc[:,1])\n",
    "    # Extract and add hour and day indicators\n",
    "    netatmo_data['Hour'] = netatmo_data.iloc[:,1].dt.hour\n",
    "    netatmo_data['Time'] = netatmo_data.iloc[:,1].dt.time\n",
    "    netatmo_data['Date'] = netatmo_data.iloc[:,1].dt.date\n",
    "    netatmo_data['Day']  = netatmo_data.iloc[:,1].dt.day\n",
    "    # Make individual date/hour IDs\n",
    "    netatmo_data['con']  = netatmo_data.Day.astype(str).str.cat(netatmo_data.Hour.astype(str), sep=\"-\")\n",
    "\n",
    "    # Converting temperatures from Celcius to Kelvin\n",
    "    netatmo_data['Kelvin'] = netatmo_data['Temperature'] + 273.15\n",
    "    \n",
    "    # Save netatmo data for use with co2\n",
    "    name = \"netatmo_\" + location_name + \" \" + room_name.encode(\"ascii\", \"ignore\").replace(\"/\", \"\")\n",
    "\n",
    "    # Do not include timestamp and timezone \n",
    "    ex.saveDataframeToPath(netatmo_data, name, PIRpath)\n",
    "\n",
    "print \"\\nAll files processed!\""
   ]
  },
  {
   "cell_type": "code",
   "execution_count": 455,
   "metadata": {
    "collapsed": false
   },
   "outputs": [
    {
     "data": {
      "text/plain": [
       "'HE141'"
      ]
     },
     "execution_count": 455,
     "metadata": {},
     "output_type": "execute_result"
    }
   ],
   "source": [
    "# Get only alias!\n",
    "str(location_name + room_name).split('f')[0].strip(\" \")"
   ]
  },
  {
   "cell_type": "markdown",
   "metadata": {},
   "source": [
    "### Read Netatmo files\n",
    "#### Extract overall temperature for all homes - per room file\n",
    "Used in the plots of the temperature during the week -- an average added to all locations' plot of indoor temperatures."
   ]
  },
  {
   "cell_type": "code",
   "execution_count": 475,
   "metadata": {
    "collapsed": false
   },
   "outputs": [
    {
     "name": "stdout",
     "output_type": "stream",
     "text": [
      "All time average temperatures calculated!\n"
     ]
    }
   ],
   "source": [
    "# make sure we are in the right folder\n",
    "chdir(netpath)\n",
    "\n",
    "# files for room data\n",
    "all_time_liv = pd.DataFrame()\n",
    "all_time_bed = pd.DataFrame()\n",
    "\n",
    "livingroom_pattern = (re.compile(livingroom_pattern))\n",
    "bed_pattern = (re.compile(bedroom_pattern))\n",
    "\n",
    "# Merge all files for given room (living room (+ kitchen/upstairs), bedroom)\n",
    "for room_file in netatmo_files:\n",
    "    if livingroom_pattern.match(room_file):\n",
    "        # read file\n",
    "        liv_data = pd.read_excel(room_file) \n",
    "        # Change range of data and give new column names\n",
    "        liv_data.columns = liv_data.iloc[1,:]\n",
    "        liv_data = liv_data.drop(liv_data.index[[0,1]])\n",
    "        \n",
    "        # Extract only needed columns CO2, temperature and date/time values\n",
    "        temp = liv_data[liv_data.columns[:5]]\n",
    "        temp.columns = ['Timestamp', 'Timezone', 'Temperature', 'Humidity', 'CO2']\n",
    "        \n",
    "        # Add content to all time data file\n",
    "        all_time_liv = all_time_liv.append([temp])\n",
    "        \n",
    "    elif bed_pattern.match(room_file):\n",
    "        # read file\n",
    "        bed_data = pd.read_excel(room_file) \n",
    "        # Change range of data and give new column names\n",
    "        bed_data.columns = bed_data.iloc[1,:]\n",
    "        bed_data = bed_data.drop(bed_data.index[[0,1]])\n",
    "\n",
    "        # Extract only needed columns CO2, temperature and date/time values\n",
    "        temp = liv_data[liv_data.columns[:5]]\n",
    "        temp.columns = ['Timestamp', 'Timezone', 'Temperature', 'Humidity', 'CO2']\n",
    "        \n",
    "        # Add content to all time data file\n",
    "        all_time_bed = all_time_bed.append([temp])\n",
    "        \n",
    "    else: \n",
    "        # It is okay that \"have\"-file is missing!\n",
    "         print \"Error! File: %s missing room classification!\" % room_file\n",
    "\n",
    "            \n",
    "# Save all time temperatures\n",
    "# Livingroom/kitchen temp\n",
    "#ex.saveDataframeToPath(all_time_liv, 'LivingroomKitchen_tempAll_'+str(weekNumber), base_path)\n",
    "#ex.saveDataframeToPath(all_time_bed, 'Bedroom_tempAll_'+str(weekNumber), base_path)\n",
    "print \"All time average temperatures calculated!\""
   ]
  },
  {
   "cell_type": "markdown",
   "metadata": {},
   "source": [
    "### Calculate temperature per hour"
   ]
  },
  {
   "cell_type": "code",
   "execution_count": 476,
   "metadata": {
    "collapsed": false
   },
   "outputs": [
    {
     "name": "stdout",
     "output_type": "stream",
     "text": [
      "All mean temperatures per hour created\n"
     ]
    }
   ],
   "source": [
    "# For households in list of households, plot temperature agains mean temperature\n",
    "uniq_hour_liv = {}\n",
    "uniq_hour_bed = {}\n",
    "uniq_hour_liv = ex.createMeanTempForRoom(all_time_liv)\n",
    "uniq_hour_bed = ex.createMeanTempForRoom(all_time_bed)\n",
    "print \"All mean temperatures per hour created\""
   ]
  },
  {
   "cell_type": "markdown",
   "metadata": {},
   "source": [
    "### Find min and max temperature values \n",
    "For plotting all temperatures within equal ranges"
   ]
  },
  {
   "cell_type": "code",
   "execution_count": 477,
   "metadata": {
    "collapsed": false
   },
   "outputs": [
    {
     "name": "stdout",
     "output_type": "stream",
     "text": [
      "Min temp: 18.7\n",
      "Max temp: 24.4\n"
     ]
    }
   ],
   "source": [
    "# Calculate all time high and low from all temperatures\n",
    "all_time_high = 0\n",
    "all_time_low  = 0\n",
    "\n",
    "# Find all time max value\n",
    "if (max(uniq_hour_bed['Temperature']) > max(uniq_hour_liv['Temperature'])):\n",
    "    all_time_high = max(uniq_hour_bed['Temperature'])+6\n",
    "else:\n",
    "    all_time_high = max(uniq_hour_liv['Temperature'])+6\n",
    "               \n",
    "# Find all time min value\n",
    "if (min(uniq_hour_bed['Temperature']) < min(uniq_hour_liv['Temperature'])):\n",
    "    all_time_low = min(uniq_hour_bed['Temperature'])-6\n",
    "else:\n",
    "    all_time_low = min(uniq_hour_liv['Temperature'])-6\n",
    "                     \n",
    "print \"Min temp:\", round(all_time_low, 2)+6\n",
    "print \"Max temp:\", round(all_time_high, 2)-6"
   ]
  },
  {
   "cell_type": "markdown",
   "metadata": {},
   "source": [
    "#### Check that all weekly temperatures are calculated"
   ]
  },
  {
   "cell_type": "code",
   "execution_count": 478,
   "metadata": {
    "collapsed": false
   },
   "outputs": [
    {
     "data": {
      "text/plain": [
       "True"
      ]
     },
     "execution_count": 478,
     "metadata": {},
     "output_type": "execute_result"
    }
   ],
   "source": [
    "# Check that there are in fact 168 values (24x7)\n",
    "168 == len(uniq_hour_bed)\n"
   ]
  },
  {
   "cell_type": "markdown",
   "metadata": {},
   "source": [
    "#### <span style=\"color:darkred\">Equations used for calculating boundaries</span>\n",
    "The equations are assumed correct and will not be further discussed only presented as these are some of the basis for later work.\n",
    "\\begin{equation}rh_{red}   = 0.6*\\frac{p_{mv}}{p_{mi}}\\end{equation}\n",
    "\\begin{equation}rh_{gul}   = 0.75*\\frac{p_{mv}}{p_{mi}}\\end{equation}\n",
    "\n",
    "\\begin{equation}p_{mv} = \\frac{e^{77.3450+0.0057*t_v}-\\frac{7235}{t_v}}{t_{v}^{8.2}}\\end{equation}\n",
    "\\begin{equation}p_{mi} = \\frac{e^{77.3450+0.0057*T_i}-\\frac{7235}{t_v}}{T_{i}^{8.2}}\\end{equation}\n",
    "\n",
    "$t_v = \\frac{1}{3}t_{u} + \\frac{2}{3}t_i$\n",
    "\n",
    "where $t_i$ is the temperature from Netatmo<br></br>\n",
    "and $t_u$ is the outdoor temperature taken from a weather station also provided by Netatmo.\n",
    "\n",
    "These calculations are made using all data provided for each household for the current week. All temperatures are measured in Kelvin."
   ]
  },
  {
   "cell_type": "markdown",
   "metadata": {},
   "source": [
    "### Create figures (pie chart + temperatures) for all netatmo data"
   ]
  },
  {
   "cell_type": "code",
   "execution_count": 337,
   "metadata": {
    "collapsed": true
   },
   "outputs": [],
   "source": [
    "from fractions import Fraction\n",
    "def createHumidityPlot(dataFrame, hour_cnt_netatmo, hour_cnt_have, room_n, location_n, col1, col2, col3, livpat, bedpat):\n",
    "    # initialize arrays for limit values rh_gul and rh_roed\n",
    "    # If directory path does not exist - create it\n",
    "    livingroom_pattern = re.compile(livpat)\n",
    "    bedroom_pattern = re.compile(bedpat)\n",
    "    if not path.exists(viz_path):\n",
    "        makedirs(viz_path)\n",
    "    chdir(viz_path)\n",
    "    \n",
    "    room     = \"\"\n",
    "    rh_gul   = []\n",
    "    rh_roed  = []\n",
    "    pmv_list = []\n",
    "    pmi_list = []\n",
    "    hr_data  = []\n",
    "    rh_boundaries = pd.DataFrame()\n",
    "    \n",
    "    # Calculations for humidity equation\n",
    "    # Constants\n",
    "    for i in range(0,24):\n",
    "        t_i   = np.asarray(hour_cnt_netatmo.values()) + 273.15  # converted to Kelvin\n",
    "        t_ude = np.asarray(hour_cnt_have.values())    + 273.15  # converted to Kelvin\n",
    "        t_v   = np.add(Fraction(1,3)*t_ude[i], Fraction(2,3)*t_i[i])\n",
    "\n",
    "        # Limit equations\n",
    "        p_mv  = math.exp(77.3450 + 0.0057*t_v     - 7235.0 / t_v)   / (t_v**8.2)\n",
    "        p_mi  = math.exp(77.3450 + 0.0057*t_i[i] - 7235.0 / t_i[i]) / (t_i[i]**8.2)\n",
    "        \n",
    "        # Equation for upper and lower bound\n",
    "        rh_gul.append(0.6 * p_mv / p_mi)\n",
    "        rh_roed.append(0.75 * p_mv / p_mi)\n",
    "        pmi_list.append(p_mi)\n",
    "        pmv_list.append(p_mv)\n",
    "\n",
    "    print \"Boundaries calculated\"\n",
    "    # Humidity\n",
    "    # Only for rooms with humidity measure\n",
    "    hr_data = dataFrame[['Humidity', 'Kelvin', 'Hour', 'Temperature','Date','Time']] # Using Kelvin temperatures\n",
    "    hr_data['rh_gul'] = np.zeros(len(hr_data))\n",
    "    hr_data['rh_roed'] = np.zeros(len(hr_data))\n",
    "    # Initialize rh-dict for value groups\n",
    "    rh_dict = dict.fromkeys(['middleValue', 'lowValue', 'highValue'], 0)\n",
    "    \n",
    "    # Check netatmo data against humidity boundaries for each hour of day\n",
    "    for i in range(0, len(hr_data['Humidity'])):\n",
    "        # Only for testing - see values of red yellow and humidity\n",
    "        #print hr_data.iloc[i,0], rh_gul[hr_data.iloc[i,2]] * 100, rh_roed[hr_data.iloc[i,2]] * 100\n",
    "        # if humidity value are between rh_gul and rh_roed at given hour\n",
    "        if hr_data.iloc[i,0] > rh_gul[hr_data.iloc[i,2]] * 100 and hr_data.iloc[i,0] < rh_roed[hr_data.iloc[i,2]] * 100:\n",
    "            rh_dict['middleValue'] += 1\n",
    "        # If humidity is less than rh_gul\n",
    "        elif hr_data.iloc[i,0] < rh_gul[hr_data.iloc[i,2]] * 100:\n",
    "            rh_dict['lowValue'] += 1\n",
    "        # If humidity is greater than rh_roed \n",
    "        elif hr_data.iloc[i,0] > rh_roed[hr_data.iloc[i,2]] * 100:\n",
    "            rh_dict['highValue'] += 1\n",
    "        else:\n",
    "            print 'Something fails'\n",
    "        # For each value, set the  limits...\n",
    "        hr_data.iloc[i,6] = rh_gul[hr_data.iloc[i,2]]\n",
    "        hr_data.iloc[i,7] = rh_roed[hr_data.iloc[i,2]]\n",
    "    \n",
    "    room     = room_n.encode(\"ascii\", \"ignore\").replace(\"/\", \"\")\n",
    "    print room\n",
    "    room_id = \"\"\n",
    "    if livingroom_pattern.match(room):\n",
    "        room_id = \"livingroom\"\n",
    "    elif bedroom_pattern.match(room):\n",
    "        room_id = \"bedroom\"\n",
    "    else:\n",
    "        room_id = \"other\"\n",
    "\n",
    "    #Save HR data for room to file - bedroom/livingroom as extension to match room in house\n",
    "    ex.saveDataframeToPath(hr_data[['Date', 'Time', 'Humidity', 'Temperature', 'rh_gul', 'rh_roed']], location_n + '-RH-' + room_id, netpath+\"/HR\")\n",
    "    # Save boundaries and temperatures to file\n",
    "    #rh_boundaries['t_i']     = t_i  \n",
    "    #rh_boundaries['t_ude']   = t_ude\n",
    "    #rh_boundaries['rh_gul']  = rh_gul\n",
    "    #rh_boundaries['rh_roed'] = rh_roed\n",
    "    #rh_boundaries['p_mi']    = pmi_list\n",
    "    #rh_boundaries['p_mv']    = pmv_list\n",
    "    #ex.saveDataframeToPath(rh_boundaries, location_n + '-RH-boundaries', netpath+\"/HR\")\n",
    "    #print \"Humidity file saved for \" + room_id\n",
    "    #chdir(viz_path)\n",
    "\n",
    "    # Save plot to proper location\n",
    "    #plotType = '-RH-'           # type: relative humidity\n",
    "    #room     = room_n.encode(\"ascii\", \"ignore\").replace(\"/\", \"\")\n",
    "    #filen    = location_n + plotType + room + \".png\"\n",
    "    #filen    = filen.replace(\" \", \"\")\n",
    "\n",
    "    # Plot over fresh air \n",
    "#    fig = {\n",
    "#        'data': [{'labels': ['Under anbefaling', 'Indenfor anbefaling', 'Over anbefaling'],\n",
    "#                  'values': [rh_dict['lowValue'],\n",
    "#                             rh_dict['middleValue'],\n",
    "#                             rh_dict['highValue']],\n",
    "#                  'type': 'pie', \n",
    "#                  'marker': {'colors': [col1,\n",
    "#                                        col2,\n",
    "#                                        col3]},\n",
    "#                  'textinfo': 'none'}],\n",
    "#        'layout': { 'autosize': False,\n",
    "#                    'width': 350,\n",
    "#                    'height': 350,\n",
    "#                    \"paper_bgcolor\": \"rgba(0, 0, 0, 0)\",\n",
    "#                    \"plot_bgcolor\": \"rgba(0, 0, 0, 0)\",\n",
    "#                    'showlegend': False}\n",
    "#         }\n",
    "#    print rh_dict['lowValue'], rh_dict['middleValue'], rh_dict['highValue'] ,  len(hr_data)\n",
    "#\n",
    "#    # Save to folder\n",
    "#    py.image.save_as(fig, filename=filen)\n",
    "#    print \"Plot created \" + filen\n",
    "    # Plot result\n",
    "    #Image(fullPathToPlot) # Display a static image\n",
    "    #py.iplot(fig)"
   ]
  },
  {
   "cell_type": "code",
   "execution_count": 254,
   "metadata": {
    "collapsed": true
   },
   "outputs": [],
   "source": [
    "# Plot temperatures for each room against overall temp\n",
    "# Encoding documentation in Python, https://docs.python.org/2/howto/unicode.html\n",
    "def createTempPlot(dataFrame, tempLiv, tempBed, location_n, room_n, pattern, tAxes, bgBorder, rangeMin, rangeMax):\n",
    "    #Change back to correct working directory\n",
    "    # If directory path does not exist - create it\n",
    "    if not path.exists(viz_path):\n",
    "        makedirs(viz_path)\n",
    "    chdir(viz_path)\n",
    "    \n",
    "    # Save plot to proper location\n",
    "    plotType = '-temp' # type: temperature\n",
    "        \n",
    "    # Plotting weekly temperature overview - single home\n",
    "    trace1 = go.Scatter(\n",
    "              x = pd.to_datetime(dataFrame.iloc[:,1]),\n",
    "              y = list(dataFrame.Temperature),\n",
    "        name = 'Din bolig', # Style name/legend entry with html tags\n",
    "        connectgaps=False\n",
    "    )\n",
    "\n",
    "    # Choose whether to use living room/kitchen temp or bedroom temp - overall\n",
    "    print room_n\n",
    "    new_pat = re.compile(pattern)\n",
    "    if new_pat.match(room_n):\n",
    "        trace2 = go.Scatter(\n",
    "              x = pd.to_datetime(tempLiv.Timezone),\n",
    "              y = list(tempLiv.newTemp),\n",
    "        name = 'Hedelyngen',\n",
    "        connectgaps = False\n",
    "        )\n",
    "    else:\n",
    "        trace2 = go.Scatter(\n",
    "              x = pd.to_datetime(tempBed.Timezone),\n",
    "              y = list(tempBed.newTemp),\n",
    "        name = 'Hedelyngen',\n",
    "        connectgaps = False\n",
    "    )\n",
    "        \n",
    "    data = [trace1, trace2]\n",
    "\n",
    "    # Setting layout details for plot\n",
    "    layout = go.Layout(\n",
    "        autosize = False,\n",
    "        width = 600,\n",
    "        height = 350,\n",
    "        paper_bgcolor = 'rgba(0, 0, 0, 0)',\n",
    "        plot_bgcolor = \"rgba(0, 0, 0, 0)\",\n",
    "        showlegend = False,\n",
    "        xaxis=dict(\n",
    "            tickfont=dict(\n",
    "                size=14,\n",
    "                color=tAxes\n",
    "            )\n",
    "        ),\n",
    "\n",
    "        yaxis=dict(\n",
    "            range=[rangeMin,rangeMax],\n",
    "            zeroline=True,\n",
    "            titlefont=dict(\n",
    "                size=16,\n",
    "                color=tAxes\n",
    "            ),\n",
    "            tickfont=dict(\n",
    "                size=16,\n",
    "                color=tAxes\n",
    "            )\n",
    "        ),\n",
    "\n",
    "        legend=dict(\n",
    "            x=0,\n",
    "            y=1.0,\n",
    "            bgcolor=bgBorder,\n",
    "            bordercolor=bgBorder\n",
    "        )\n",
    "    )\n",
    "\n",
    "    # Give name for plot to be saved\n",
    "    room = room_n.encode(\"ascii\", \"ignore\").replace(\"/\", \"\")\n",
    "    filen = location_n + plotType + \"-\" + room + \".png\"\n",
    "    filen = filen.replace(\" \", \"\")\n",
    "\n",
    "    # Create and save figure\n",
    "    fig = go.Figure(data=data, layout=layout)\n",
    "    py.image.save_as(fig, filename=filen)\n",
    "    #Image(fullPathToPlot) # Display a static image\n"
   ]
  },
  {
   "cell_type": "code",
   "execution_count": 489,
   "metadata": {
    "collapsed": false,
    "scrolled": true
   },
   "outputs": [
    {
     "name": "stdout",
     "output_type": "stream",
     "text": [
      "Reading file He147 Bedroom\n",
      "Boundaries calculated\n",
      "Bedroom\n",
      "Reading file He147 Kitchenlivingroom\n",
      "Boundaries calculated\n",
      "Kitchenlivingroom\n",
      "\n",
      "--- Execution time: 4.80900001526 seconds ---\n"
     ]
    }
   ],
   "source": [
    "# Clock time spent on execution\n",
    "start_time = time.time()\n",
    "\n",
    "chdir(PIRpath)\n",
    "netatmo_process = []\n",
    "netatmo_process += [file for file in listdir('.') if file.startswith('netatmo_')]\n",
    "\n",
    "# For each netatmo file, except the \"have\" file, create humidity and temperature plot\n",
    "#chdir(test)\n",
    "for room_file in netatmo_process:\n",
    "    # Read in file\n",
    "    netatmo_data = pd.read_excel(room_file) \n",
    "    \n",
    "    # Get name for output file\n",
    "    fst = room_file.split(\"_\")[1]\n",
    "    location_name = fst.split(\" \")[0]\n",
    "    # Get room for output file\n",
    "    rm = room_file.split(\" \")\n",
    "    \n",
    "    # Getting the right part of name as room name\n",
    "    if len(rm) > 2:\n",
    "        room_name = rm[len(rm)-2] + rm[len(rm)-1][:-5]\n",
    "    else:\n",
    "        room_name = rm[len(rm)-1][:-5]\n",
    "    # Remove leading \"f\"\n",
    "    if room_name.startswith(\"f\"):\n",
    "        room_name = room_name[1:]\n",
    "    print \"Reading file\", location_name, room_name\n",
    "    \n",
    "    # Ok using a subset of values for day and hour\n",
    "    hour_cnt = ex.calculateHourlyTemp(netatmo_data, 'con', 'Temperature')\n",
    "    \n",
    "    # Generate plots\n",
    "    # createTempPlot(dataFrame, tempLiv, tempBed, dir_, location_n, room_n, tAxes, bgBorder):\n",
    "    #createTempPlot(netatmo_data, uniq_hour_liv, uniq_hour_bed, location_name, room_name, livingroom_pattern, ticksAxes, bgBorder, all_time_low, all_time_high)\n",
    "    # createHumidityPlot(dataFrame, room_n, location_n):\n",
    "    createHumidityPlot(netatmo_data, hour_cnt, hour_cnt_have, room_name, location_name, pieGreen, pieOrange, pieRed, livingroom_pattern, bedroom_pattern)\n",
    "    chdir(PIRpath)\n",
    "print(\"\\n--- Execution time: %s seconds ---\" % (time.time() - start_time))"
   ]
  },
  {
   "cell_type": "markdown",
   "metadata": {},
   "source": [
    "----\n",
    "## Anne - further work\n",
    "* Calculate number of times door has been opened per room ``while`` movement indoor\n",
    "* Movement per week day\n",
    "* Heat consumption\n",
    "* Accesing the Netatmo API for data instead of manually downloading the needed files "
   ]
  },
  {
   "cell_type": "markdown",
   "metadata": {},
   "source": [
    "### <span style=\"color:darkred\">Accessing Netatmo from their API</span>\n",
    "* [API description on GitHub](https://github.com/philippelt/netatmo-api-python)"
   ]
  },
  {
   "cell_type": "code",
   "execution_count": 116,
   "metadata": {
    "collapsed": true
   },
   "outputs": [],
   "source": [
    "import lnetatmo"
   ]
  }
 ],
 "metadata": {
  "anaconda-cloud": {},
  "kernelspec": {
   "display_name": "Python [Root]",
   "language": "python",
   "name": "Python [Root]"
  },
  "language_info": {
   "codemirror_mode": {
    "name": "ipython",
    "version": 2
   },
   "file_extension": ".py",
   "mimetype": "text/x-python",
   "name": "python",
   "nbconvert_exporter": "python",
   "pygments_lexer": "ipython2",
   "version": "2.7.12"
  }
 },
 "nbformat": 4,
 "nbformat_minor": 0
}
